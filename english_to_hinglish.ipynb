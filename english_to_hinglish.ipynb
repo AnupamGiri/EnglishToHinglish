{
 "cells": [
  {
   "cell_type": "code",
   "execution_count": 50,
   "id": "e1a4ff05",
   "metadata": {},
   "outputs": [],
   "source": [
    "!pip install transformers -U -q\n",
    "import torch\n",
    "import tensorflow as tf"
   ]
  },
  {
   "cell_type": "code",
   "execution_count": 51,
   "id": "462b103f",
   "metadata": {
    "scrolled": false
   },
   "outputs": [
    {
     "name": "stdout",
     "output_type": "stream",
     "text": [
      "Requirement already satisfied: sentencepiece in c:\\users\\anupa\\anaconda3\\lib\\site-packages (0.1.99)\n"
     ]
    }
   ],
   "source": [
    "! pip install sentencepiece"
   ]
  },
  {
   "cell_type": "code",
   "execution_count": 52,
   "id": "49b92691",
   "metadata": {},
   "outputs": [
    {
     "name": "stdout",
     "output_type": "stream",
     "text": [
      "transformers==4.34.0\n"
     ]
    }
   ],
   "source": [
    "!pip freeze | grep transformers"
   ]
  },
  {
   "cell_type": "code",
   "execution_count": 53,
   "id": "bf7233eb",
   "metadata": {},
   "outputs": [],
   "source": [
    "from transformers import MBartForConditionalGeneration, MBart50TokenizerFast"
   ]
  },
  {
   "cell_type": "code",
   "execution_count": 54,
   "id": "a6891326",
   "metadata": {
    "scrolled": true
   },
   "outputs": [],
   "source": [
    "model = MBartForConditionalGeneration.from_pretrained(\"facebook/mbart-large-50-one-to-many-mmt\")"
   ]
  },
  {
   "cell_type": "code",
   "execution_count": 55,
   "id": "e9f9f8d7",
   "metadata": {},
   "outputs": [],
   "source": [
    "tokenizer = MBart50TokenizerFast.from_pretrained(\"facebook/mbart-large-50-one-to-many-mmt\", src_lang=\"en_XX\")\n"
   ]
  },
  {
   "cell_type": "code",
   "execution_count": 280,
   "id": "8faf086a",
   "metadata": {},
   "outputs": [],
   "source": [
    "\n",
    "# input sentences\n",
    "input_text = [\"Ram and Shyam are fighting\"]\n",
    "\n",
    "# convert sentences to tensors\n",
    "model_inputs = tokenizer(input_text, return_tensors=\"pt\", padding=True, truncation=True)"
   ]
  },
  {
   "cell_type": "code",
   "execution_count": 281,
   "id": "17d016c4",
   "metadata": {
    "scrolled": true
   },
   "outputs": [
    {
     "name": "stdout",
     "output_type": "stream",
     "text": [
      "['राम और श्याम लड़ रहे हैं']\n"
     ]
    }
   ],
   "source": [
    "# translate from English to Hindi\n",
    "generated_tokens = model.generate(\n",
    "    **model_inputs,\n",
    "    forced_bos_token_id=tokenizer.lang_code_to_id[\"hi_IN\"]\n",
    ")\n",
    "\n",
    "translation = tokenizer.batch_decode(generated_tokens, skip_special_tokens=True)\n",
    "\n",
    "print(translation)"
   ]
  },
  {
   "cell_type": "code",
   "execution_count": 282,
   "id": "1129a05f",
   "metadata": {},
   "outputs": [
    {
     "name": "stderr",
     "output_type": "stream",
     "text": [
      "[nltk_data] Downloading package averaged_perceptron_tagger to\n",
      "[nltk_data]     C:\\Users\\anupa\\AppData\\Roaming\\nltk_data...\n",
      "[nltk_data]   Package averaged_perceptron_tagger is already up-to-\n",
      "[nltk_data]       date!\n"
     ]
    }
   ],
   "source": [
    "import nltk\n",
    "nltk.download('averaged_perceptron_tagger')\n",
    "\n",
    "def is_noun(text):\n",
    "    ans = nltk.pos_tag([text])\n",
    "    val = ans[0][1]\n",
    "\n",
    "    if val in ('NN', 'NNS', 'NNPS', 'NNP'):\n",
    "        return True\n",
    "    else:\n",
    "        return False"
   ]
  },
  {
   "cell_type": "code",
   "execution_count": 283,
   "id": "d65d460d",
   "metadata": {},
   "outputs": [
    {
     "name": "stdout",
     "output_type": "stream",
     "text": [
      "['Ram', 'Shyam']\n"
     ]
    }
   ],
   "source": [
    "# Split the input text into words\n",
    "words = input_text[0].split()\n",
    "\n",
    "# Initialize a list to store nouns\n",
    "noun_list = []\n",
    "\n",
    "# Check if each word is a noun and add it to the list\n",
    "for word in words:\n",
    "    if is_noun(word):\n",
    "        noun_list.append(word)\n",
    "\n",
    "print(noun_list)"
   ]
  },
  {
   "cell_type": "code",
   "execution_count": 284,
   "id": "6ec8692d",
   "metadata": {},
   "outputs": [
    {
     "name": "stdout",
     "output_type": "stream",
     "text": [
      "<class 'str'>\n"
     ]
    }
   ],
   "source": [
    "print(type(noun_list[0]))"
   ]
  },
  {
   "cell_type": "code",
   "execution_count": 285,
   "id": "1d55a785",
   "metadata": {},
   "outputs": [
    {
     "name": "stdout",
     "output_type": "stream",
     "text": [
      "Ram और Shyam लड़ रहे हैं\n"
     ]
    }
   ],
   "source": [
    "# Create a copy of the translation for replacement\n",
    "translated_sentence = translation.copy()\n",
    "translated_sentence = translated_sentence[0]\n",
    "\n",
    "# Translate English nouns to Hindi and replace them in the translated_sentence\n",
    "for noun in noun_list:\n",
    "    noun = noun.replace(',', '')\n",
    "    model_inputs_noun = tokenizer(noun, return_tensors=\"pt\", padding=True, truncation=True)\n",
    "\n",
    "    generated_tokens_noun = model.generate(\n",
    "        **model_inputs_noun,\n",
    "        forced_bos_token_id=tokenizer.lang_code_to_id[\"hi_IN\"]\n",
    "    )\n",
    "\n",
    "    noun_translation = tokenizer.batch_decode(generated_tokens_noun, skip_special_tokens=True)[0]\n",
    "#     print(noun_translation)\n",
    "    # Replace the noun_translation (a list) with the original noun (a string)\n",
    "    translated_sentence = translated_sentence.replace(noun_translation ,noun)\n",
    "\n",
    "print(translated_sentence)"
   ]
  },
  {
   "cell_type": "code",
   "execution_count": null,
   "id": "4a80f4de",
   "metadata": {},
   "outputs": [],
   "source": []
  }
 ],
 "metadata": {
  "kernelspec": {
   "display_name": "Python 3 (ipykernel)",
   "language": "python",
   "name": "python3"
  },
  "language_info": {
   "codemirror_mode": {
    "name": "ipython",
    "version": 3
   },
   "file_extension": ".py",
   "mimetype": "text/x-python",
   "name": "python",
   "nbconvert_exporter": "python",
   "pygments_lexer": "ipython3",
   "version": "3.9.12"
  }
 },
 "nbformat": 4,
 "nbformat_minor": 5
}
